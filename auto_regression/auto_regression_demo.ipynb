{
 "cells": [
  {
   "cell_type": "markdown",
   "metadata": {},
   "source": [
    "Auto-regression model components of a signal serially, each one conditionally to the ones already modeled. They rely on the chain rule from probability theory, given $X_1,...,X_T$ random variable, we have\n",
    "\n",
    "\\begin{align}\n",
    "\\forall x_1,..., x_T, P(X_1=x_1,...X_T=x_T) = P(X_1=x_1)P(X_2=x_2|X_1=x_1),...,P(X_T=x_T|X_1=x_1,...,X_{T-1}=x_{t-1})\n",
    "\\end{align}\n",
    "\n",
    "Deep neural networks are a fitting class of models for such conditional densities when dealing with large dimesion signal."
   ]
  },
  {
   "cell_type": "markdown",
   "metadata": {},
   "source": [
    "Given a sequence of r.v. $X_1,...,X_T$ on $\\mathbb{R}$, we can represent a conditioning event of the form\n",
    "\\begin{align}\n",
    "X_{t(1)} = x_1,..., X_{t(N)}=x_N \n",
    "\\end{align}\n",
    "with 2 tensors of dimension T: Mask tensor and Value tensor.\n",
    "\n",
    "<img src = \"example_tensors.png\" aligh='left'/>\n",
    "\n"
   ]
  },
  {
   "cell_type": "code",
   "execution_count": null,
   "metadata": {},
   "outputs": [],
   "source": []
  },
  {
   "cell_type": "markdown",
   "metadata": {},
   "source": [
    "Formalize problem\n",
    "In what follows, we will consider only finite distributions over ${C}$ real values. Hence we can model a conditional distribution with a mapping that maps a pair\n",
    "mask / known values to a distribution for the next value of the sequence:\n",
    "\n",
    "\\begin{align}\n",
    "\\mathbb{f}: {\\{0, 1\\}}^T \\times \\mathbb{R}^T \\to \\mathbb{R}^{C}\n",
    "\\end{align}\n",
    "\n",
    "where the $C outputs values can be either probabilities, or as we will prefer, logits.\n",
    "\n",
    "This can be generalized beyond categorical distributions by mapping to\n",
    "parameters of any distribution.\n"
   ]
  },
  {
   "cell_type": "markdown",
   "metadata": {},
   "source": [
    "# Training Process"
   ]
  },
  {
   "cell_type": "markdown",
   "metadata": {},
   "source": [
    "## Input Data\n",
    "\n",
    "In practice, for each batch, we sample a position to predict for each sample at random,\n",
    "from which we build the masks, conditioning values, and target values.\n",
    "\n",
    "The training can be done with mini-batches which\n",
    "are generated as follows:\n",
    "We start from a tensor of training sequences,\n",
    "and pick the position of the value to predict at\n",
    "random in each, depicted with the red circles.\n",
    "We create a mask and a value tensor with 1s and\n",
    "values in each sequence up to the value before\n",
    "the value to predict and zeros after.\n",
    "We create the target vector with the values to\n",
    "predict for each sequence\n",
    "\n",
    "<img src = \"feeding_data.png\" aligh='left'/>"
   ]
  },
  {
   "cell_type": "markdown",
   "metadata": {},
   "source": [
    "## Loss function MLE\n",
    "\n",
    "With a finite distribution and the output values interpreted as logits, training consists of\n",
    "maximizing the likelihood of the training samples, hence minimizing\n",
    "\n",
    "\\begin{align}\n",
    "\\mathcal{L\\mathbb(f)} & = - \\sum_{n}\\sum_{t} log  \\hat{p}(X_t=x_{n,t}|X_1=x_{n,1},...,X_{t-1}=x_{n,t-1}) \\\\\n",
    "& = \\sum_{n}\\sum_{t} \\mathcal{l}(\\mathbb{f}((1,...,1,0,...,0), (x_{n,1},...x_{n,t-1},0,...0)),x_{n,t})\n",
    "\\end{align}\n",
    "\n",
    "where $\\mathcal{l}$ is the cross-entropy."
   ]
  },
  {
   "cell_type": "markdown",
   "metadata": {},
   "source": [
    "## Generate Data\n",
    "Given such a model and a sampling procedure sample, then generative process for a full sequence\n",
    "\n",
    "\\begin{align}\n",
    "x_1 &\\leftarrow sample(f(\\{\\})) \\\\\n",
    "x_2 &\\leftarrow sample(f(\\{X_1= x_1\\})) \\\\\n",
    "x_3 &\\leftarrow sample(f(\\{X_1=x_1, X_2=x_2\\})) \\\\\n",
    "    &... \\\\\n",
    "x_T &\\leftarrow sample(f(\\{X_1=x_1, X_2=x_2,...,X_{T-1}=x_{T-1}\\})) \n",
    "\\end{align}\n",
    "\n",
    "<img src = \"generate_process.png\" aligh='left'/>"
   ]
  },
  {
   "cell_type": "markdown",
   "metadata": {},
   "source": []
  },
  {
   "cell_type": "markdown",
   "metadata": {},
   "source": []
  },
  {
   "cell_type": "markdown",
   "metadata": {},
   "source": []
  },
  {
   "cell_type": "markdown",
   "metadata": {},
   "source": []
  },
  {
   "cell_type": "markdown",
   "metadata": {},
   "source": []
  },
  {
   "cell_type": "markdown",
   "metadata": {},
   "source": []
  },
  {
   "cell_type": "markdown",
   "metadata": {},
   "source": []
  },
  {
   "cell_type": "code",
   "execution_count": 2,
   "metadata": {},
   "outputs": [],
   "source": [
    "from src.ar_model import LeNetMNIST \n",
    "from src.util import *\n",
    "import torch\n",
    "from torch.nn.functional import cross_entropy\n",
    "import matplotlib.pyplot as plt\n",
    "import seaborn as sns\n",
    "%matplotlib inline"
   ]
  },
  {
   "cell_type": "code",
   "execution_count": 3,
   "metadata": {},
   "outputs": [],
   "source": [
    "from torchvision import datasets\n",
    "data_dir = './data'\n",
    "\n",
    "flatten = False\n",
    "mnist_train_set = datasets.MNIST(data_dir + '/mnist/', train = True, download = True)\n",
    "mnist_test_set = datasets.MNIST(data_dir + '/mnist/', train = False, download = True)\n",
    "\n",
    "train_input = mnist_train_set.data.view(-1, 1, 28, 28).float()\n",
    "train_target = mnist_train_set.targets\n",
    "test_input = mnist_test_set.data.view(-1, 1, 28, 28).float()\n",
    "test_target = mnist_test_set.targets\n",
    "\n",
    "if flatten:\n",
    "    train_input = train_input.clone().reshape(train_input.size(0), -1)\n",
    "    test_input = test_input.clone().reshape(test_input.size(0), -1)"
   ]
  },
  {
   "cell_type": "code",
   "execution_count": 4,
   "metadata": {},
   "outputs": [
    {
     "data": {
      "text/plain": [
       "torch.Size([60000, 1, 28, 28])"
      ]
     },
     "execution_count": 4,
     "metadata": {},
     "output_type": "execute_result"
    }
   ],
   "source": [
    "train_input.size()"
   ]
  },
  {
   "cell_type": "code",
   "execution_count": 5,
   "metadata": {},
   "outputs": [],
   "source": [
    "device = torch.device(\"cuda\" if torch.cuda.is_available() else \"cpu\")"
   ]
  },
  {
   "cell_type": "code",
   "execution_count": 6,
   "metadata": {},
   "outputs": [],
   "source": [
    "model = LeNetMNIST(nb_classes=256)\n",
    "\n",
    "optimizer = torch.optim.SGD(params=model.parameters(),lr=0.001)\n",
    "loss_fn = torch.nn.CrossEntropyLoss()"
   ]
  },
  {
   "cell_type": "code",
   "execution_count": 26,
   "metadata": {},
   "outputs": [],
   "source": [
    "## Training loop\n",
    "model = LeNetMNIST(nb_classes=256)\n",
    "mu, std = train_input.mean(), train_input.std()\n",
    "batch_size = 256\n",
    "optimizer = torch.optim.SGD(params=model.parameters(),lr=0.001)\n",
    "epos = 20\n",
    "for _ in range(epos):\n",
    "    for data in train_input.split(batch_size):\n",
    "        # Make 1d sequences from the images\n",
    "        sequences = tensor2seq(data)\n",
    "        nb, len = sequences.size(0), sequences.size(1)\n",
    "        # Select a random index in each sequence, this is our targets\n",
    "        idx = torch.randint(len, (nb, 1), device = device)\n",
    "        targets = sequences.gather(1, idx).view(-1)\n",
    "        targets = targets.long()\n",
    "        # Create masks and values accordingly\n",
    "        tics = torch.arange(len, device = device).view(1, -1).expand(nb, -1)\n",
    "        masks = seq2tensor((tics < idx.expand(-1, len)).float())\n",
    "        values = (data.float() - mu) / std * masks\n",
    "        # Make the input, set the mask and values as two channels\n",
    "        input = torch.cat((masks, values), 1)\n",
    "        # Compute the loss and make the gradient step\n",
    "        output = model(input)\n",
    "        loss = loss_fn(output, targets)\n",
    "        optimizer.zero_grad()\n",
    "        loss.backward()\n",
    "        optimizer.step()"
   ]
  },
  {
   "cell_type": "code",
   "execution_count": null,
   "metadata": {},
   "outputs": [],
   "source": []
  },
  {
   "cell_type": "markdown",
   "metadata": {},
   "source": []
  },
  {
   "cell_type": "code",
   "execution_count": 27,
   "metadata": {},
   "outputs": [],
   "source": [
    "nb = 25\n",
    "generated = torch.zeros((nb,) + train_input.shape[1:],device = device, dtype = torch.int64)\n",
    "sequences = tensor2seq(generated)\n",
    "tics = torch.arange(sequences.size(1), device = device).view(1, -1).expand(nb, -1)\n",
    "for t in range(sequences.size(1)):\n",
    "    masks = seq2tensor((tics < t).float())\n",
    "    values = (seq2tensor(sequences).float() - mu) / std * masks\n",
    "    input = torch.cat((masks, values), 1)\n",
    "    output = model(input)\n",
    "    dist = torch.distributions.categorical.Categorical(logits = output)\n",
    "    sequences[:, t] = dist.sample()"
   ]
  },
  {
   "cell_type": "code",
   "execution_count": 30,
   "metadata": {},
   "outputs": [
    {
     "data": {
      "image/png": "[encoded data removed]",
      "text/plain": [
       "<Figure size 600x600 with 25 Axes>"
      ]
     },
     "metadata": {},
     "output_type": "display_data"
    }
   ],
   "source": [
    "n = 5\n",
    "fig, axs = plt.subplots(nrows=n, ncols=n, sharex=True, sharey=True, figsize=(6, 6))\n",
    "for i in range(n**2):\n",
    "    ax = axs[i // n, i % n]\n",
    "    ax.imshow(sequences[i, :].reshape(28,28), cmap=plt.cm.gray)\n",
    "    ax.axis('off')\n",
    "plt.tight_layout()\n",
    "plt.show()"
   ]
  },
  {
   "cell_type": "code",
   "execution_count": null,
   "metadata": {},
   "outputs": [],
   "source": []
  }
 ],
 "metadata": {
  "kernelspec": {
   "display_name": "dl",
   "language": "python",
   "name": "python3"
  },
  "language_info": {
   "codemirror_mode": {
    "name": "ipython",
    "version": 3
   },
   "file_extension": ".py",
   "mimetype": "text/x-python",
   "name": "python",
   "nbconvert_exporter": "python",
   "pygments_lexer": "ipython3",
   "version": "3.9.17"
  },
  "orig_nbformat": 4
 },
 "nbformat": 4,
 "nbformat_minor": 2
}
